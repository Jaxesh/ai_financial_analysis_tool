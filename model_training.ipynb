# notebooks/model_training.ipynb

from sklearn.model_selection import GridSearchCV
from sklearn.ensemble import RandomForestRegressor

# Use the data from the preprocessing step
X_train, X_test, y_train, y_test = split_data(preprocess_data(load_data('../data/market_data.csv')))

# Define the model
model = RandomForestRegressor()

# Define the grid of hyperparameters to search
param_grid = {
    'n_estimators': [100, 200, 300],
    'max_depth': [10, 20, 30],
}

# Perform Grid Search with Cross-Validation
grid_search = GridSearchCV(estimator=model, param_grid=param_grid, cv=5)
grid_search.fit(X_train, y_train)

# Get the best model
best_model = grid_search.best_estimator_

# Evaluate the best model
evaluate_model(best_model, X_test, y_test)

# Save the best model
save_model(best_model, '../models/best_model.pkl')
