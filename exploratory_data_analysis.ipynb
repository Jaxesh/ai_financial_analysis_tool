# notebooks/exploratory_data_analysis.ipynb

import pandas as pd
import matplotlib.pyplot as plt

data = pd.read_csv('../data/market_data.csv')
data['Date'] = pd.to_datetime(data['Date'])

plt.figure(figsize=(14, 7))
plt.plot(data['Date'], data['Close'], label='Closing Price')
plt.title('Market Data')
plt.xlabel('Date')
plt.ylabel('Price')
plt.legend()
plt.show()
